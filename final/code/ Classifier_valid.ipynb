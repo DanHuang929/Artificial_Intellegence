{
 "cells": [
  {
   "cell_type": "code",
   "execution_count": 56,
   "id": "291f419d",
   "metadata": {},
   "outputs": [],
   "source": [
    "import os\n",
    "import pandas as pd\n",
    "from torch.utils.data import DataLoader\n",
    "import cv2\n",
    "import matplotlib.pyplot as plt\n",
    "import torch\n",
    "import torchvision\n",
    "import torchvision.transforms.functional as tx\n",
    "import torchvision.transforms as T\n",
    "import numpy as np\n",
    "from torch import nn\n",
    "from torchmetrics import Accuracy\n",
    "from PIL import Image\n",
    "import random"
   ]
  },
  {
   "cell_type": "code",
   "execution_count": 57,
   "id": "1d1d6785",
   "metadata": {},
   "outputs": [],
   "source": [
    "few_data = False\n",
    "data_num = 100\n",
    "batch_size = 10"
   ]
  },
  {
   "cell_type": "code",
   "execution_count": 58,
   "id": "3c4c0ec8",
   "metadata": {},
   "outputs": [],
   "source": [
    "class_map=['A10', 'A400M', 'AG600', 'AV8B', 'B1', 'B2', 'B52', 'Be200', 'C130', 'C17', 'C5', 'E2', 'EF2000', 'F117', 'F14', 'F15', 'F16', 'F18', 'F22', 'F35', 'F4', 'J20', 'JAS39', 'Mig31', 'Mirage2000', 'MQ9', 'Rafale', 'RQ4', 'SR71', 'Su34', 'Su57', 'Tornado', 'Tu160', 'Tu95', 'U2', 'US2', 'V22', 'Vulcan', 'XB70', 'YF23']"
   ]
  },
  {
   "cell_type": "code",
   "execution_count": 59,
   "id": "608a6d1b",
   "metadata": {},
   "outputs": [],
   "source": [
    "global_mean = [120.74446532507794, 129.82000781821228, 138.8076694793008]\n",
    "global_std = [51.8159762582478, 51.42346227240079, 52.72563864069662]"
   ]
  },
  {
   "cell_type": "code",
   "execution_count": 60,
   "id": "2d9c20b9",
   "metadata": {},
   "outputs": [],
   "source": [
    "class MyDataset():\n",
    "    def __init__(self, csv_file, augment=False):\n",
    "        if few_data:\n",
    "            self.df = pd.read_csv(csv_file).iloc[:data_num]\n",
    "        else:\n",
    "            self.df = pd.read_csv(csv_file)\n",
    "        self.image_size=256\n",
    "        self.mean = np.array(global_mean, dtype=np.float32)\n",
    "        self.std = np.array(global_std, dtype=np.float32)\n",
    "        self.augment = augment\n",
    "    def __len__(self):\n",
    "        return len(self.df)\n",
    "\n",
    "    def __getitem__(self, idx):\n",
    "        label = self.df[\"type\"][idx]\n",
    "        image_name = self.df[\"name\"][idx]\n",
    "#         path = \n",
    "        image = cv2.imread(\"../data/militaryaircraftdetectiondataset/crop/\"+class_map[label]+\"/\"+image_name)\n",
    "        image = cv2.resize(image, dsize=(self.image_size, self.image_size), interpolation=cv2.INTER_LINEAR)\n",
    "        image = cv2.cvtColor(image, cv2.COLOR_BGR2RGB)\n",
    "        image = Image.fromarray(image)\n",
    "        if self.augment:\n",
    "            image = augmentation(image)\n",
    "        image = tx.to_tensor(image)\n",
    "        image = tx.resize(image, (self.image_size, self.image_size))\n",
    "        image = tx.normalize(image, self.mean/255, self.std/255) \n",
    "#         image = tx.to_tensor(image)\n",
    "        return image, label"
   ]
  },
  {
   "cell_type": "code",
   "execution_count": 61,
   "id": "1abf7c3e",
   "metadata": {},
   "outputs": [],
   "source": [
    "test_dataset = MyDataset(\"../data/test_data\")\n",
    "test_dataloader = DataLoader(test_dataset,batch_size=batch_size)"
   ]
  },
  {
   "cell_type": "code",
   "execution_count": 62,
   "id": "44c3a667",
   "metadata": {},
   "outputs": [
    {
     "name": "stdout",
     "output_type": "stream",
     "text": [
      "1387\n"
     ]
    }
   ],
   "source": [
    "image, label = next(iter(test_dataloader))\n",
    "print(len(test_dataset))"
   ]
  },
  {
   "cell_type": "code",
   "execution_count": 83,
   "id": "eb1b392f",
   "metadata": {},
   "outputs": [
    {
     "data": {
      "text/plain": [
       "<All keys matched successfully>"
      ]
     },
     "execution_count": 83,
     "metadata": {},
     "output_type": "execute_result"
    }
   ],
   "source": [
    "model = torchvision.models.efficientnet_b6(pretrained=True)\n",
    "model.classifier = torch.nn.Linear(2304, 40, bias=True)\n",
    "model.load_state_dict(torch.load(\"../data/models/best.pth\"))"
   ]
  },
  {
   "cell_type": "code",
   "execution_count": 84,
   "id": "62aa3bc8",
   "metadata": {},
   "outputs": [
    {
     "name": "stdout",
     "output_type": "stream",
     "text": [
      "cuda\n"
     ]
    }
   ],
   "source": [
    "device = 'cuda' if torch.cuda.is_available() else \"cpu\"\n",
    "loss_fn = nn.CrossEntropyLoss()\n",
    "model.to(device)\n",
    "print(device)"
   ]
  },
  {
   "cell_type": "code",
   "execution_count": 85,
   "id": "6f375994",
   "metadata": {},
   "outputs": [],
   "source": [
    "def get_score(pred, label):\n",
    "    pred = torch.argmax(pred, axis = 1)\n",
    "    score = 0\n",
    "    for i in range(len(pred)):\n",
    "        if pred[i]==label[i]:\n",
    "            score+=1\n",
    "\n",
    "    return score"
   ]
  },
  {
   "cell_type": "code",
   "execution_count": 86,
   "id": "9e6978ce",
   "metadata": {},
   "outputs": [],
   "source": [
    "def test(dataloader, loss_fn,model):\n",
    "    model.eval()\n",
    "    total_loss = 0\n",
    "    total_acc = 0\n",
    "    for i, (image, label) in enumerate(dataloader):\n",
    "        image = image.to(device)\n",
    "        label = label.to(device)\n",
    "        pred = model(image)\n",
    "        acc = get_score(pred, label)\n",
    "        loss = loss_fn(pred, label)\n",
    "        total_loss += loss.item()\n",
    "        total_acc += acc\n",
    "        if i%200==0:\n",
    "            print(\"test average total loss : \", total_loss/(i+1))\n",
    "    return total_loss, total_acc"
   ]
  },
  {
   "cell_type": "code",
   "execution_count": 87,
   "id": "6566ad38",
   "metadata": {},
   "outputs": [
    {
     "name": "stdout",
     "output_type": "stream",
     "text": [
      "test average total loss :  0.00039845696301199496\n",
      "0.4494945693635783 0.9329488103821196\n"
     ]
    }
   ],
   "source": [
    "test_loss, test_acc = test(test_dataloader, loss_fn, model)\n",
    "print(test_loss/len(test_dataloader), test_acc/len(test_dataset))\n",
    "\n",
    "\n"
   ]
  },
  {
   "cell_type": "code",
   "execution_count": 13,
   "id": "4d51e590",
   "metadata": {},
   "outputs": [
    {
     "name": "stdout",
     "output_type": "stream",
     "text": [
      "Fri Dec 16 18:26:18 2022       \n",
      "+-----------------------------------------------------------------------------+\n",
      "| NVIDIA-SMI 522.25       Driver Version: 522.25       CUDA Version: 11.8     |\n",
      "|-------------------------------+----------------------+----------------------+\n",
      "| GPU  Name            TCC/WDDM | Bus-Id        Disp.A | Volatile Uncorr. ECC |\n",
      "| Fan  Temp  Perf  Pwr:Usage/Cap|         Memory-Usage | GPU-Util  Compute M. |\n",
      "|                               |                      |               MIG M. |\n",
      "|===============================+======================+======================|\n",
      "|   0  NVIDIA GeForce ... WDDM  | 00000000:01:00.0  On |                  N/A |\n",
      "| 73%   80C    P2   297W / 350W |  20575MiB / 24576MiB |     64%      Default |\n",
      "|                               |                      |                  N/A |\n",
      "+-------------------------------+----------------------+----------------------+\n",
      "                                                                               \n",
      "+-----------------------------------------------------------------------------+\n",
      "| Processes:                                                                  |\n",
      "|  GPU   GI   CI        PID   Type   Process name                  GPU Memory |\n",
      "|        ID   ID                                                   Usage      |\n",
      "|=============================================================================|\n",
      "|    0   N/A  N/A      4564    C+G   ...8wekyb3d8bbwe\\Cortana.exe    N/A      |\n",
      "|    0   N/A  N/A      5620      C   ...ILAB\\anaconda3\\python.exe    N/A      |\n",
      "|    0   N/A  N/A      6108    C+G   ...5n1h2txyewy\\SearchApp.exe    N/A      |\n",
      "|    0   N/A  N/A      7440    C+G   C:\\Windows\\explorer.exe         N/A      |\n",
      "|    0   N/A  N/A      8872    C+G   ...y\\ShellExperienceHost.exe    N/A      |\n",
      "|    0   N/A  N/A      8952    C+G   ...5n1h2txyewy\\SearchApp.exe    N/A      |\n",
      "|    0   N/A  N/A     10032    C+G   ...cw5n1h2txyewy\\LockApp.exe    N/A      |\n",
      "|    0   N/A  N/A     10500      C   ...ILAB\\anaconda3\\python.exe    N/A      |\n",
      "|    0   N/A  N/A     10744    C+G   ...2txyewy\\TextInputHost.exe    N/A      |\n",
      "|    0   N/A  N/A     11540    C+G   ...ge\\Application\\msedge.exe    N/A      |\n",
      "+-----------------------------------------------------------------------------+\n"
     ]
    }
   ],
   "source": [
    "!nvidia-smi"
   ]
  },
  {
   "cell_type": "code",
   "execution_count": null,
   "id": "a9c1e6be",
   "metadata": {},
   "outputs": [],
   "source": []
  }
 ],
 "metadata": {
  "kernelspec": {
   "display_name": "Python 3 (ipykernel)",
   "language": "python",
   "name": "python3"
  },
  "language_info": {
   "codemirror_mode": {
    "name": "ipython",
    "version": 3
   },
   "file_extension": ".py",
   "mimetype": "text/x-python",
   "name": "python",
   "nbconvert_exporter": "python",
   "pygments_lexer": "ipython3",
   "version": "3.9.7"
  }
 },
 "nbformat": 4,
 "nbformat_minor": 5
}
